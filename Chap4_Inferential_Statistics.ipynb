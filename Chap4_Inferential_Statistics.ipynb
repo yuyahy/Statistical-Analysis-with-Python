{
 "cells": [
  {
   "cell_type": "code",
   "execution_count": 1,
   "metadata": {},
   "outputs": [],
   "source": [
    "# 推測統計のためのライブラリ、データ準備\n",
    "import numpy as np\n",
    "import pandas as pd\n",
    "import matplotlib.pyplot as plt\n",
    "\n",
    "%precision 3\n",
    "%matplotlib inline"
   ]
  },
  {
   "cell_type": "code",
   "execution_count": 2,
   "metadata": {},
   "outputs": [
    {
     "data": {
      "text/plain": [
       "array([76, 55, 80, 80, 74, 61, 81, 76, 23, 80])"
      ]
     },
     "execution_count": 2,
     "metadata": {},
     "output_type": "execute_result"
    }
   ],
   "source": [
    "df = pd.read_csv('/Users/yuya/Desktop/Python_Static/python_stat_sample/data/ch4_scores400.csv')\n",
    "scores = np.array(df['点数'])\n",
    "scores[:10]"
   ]
  },
  {
   "cell_type": "code",
   "execution_count": 3,
   "metadata": {},
   "outputs": [
    {
     "data": {
      "text/plain": [
       "array([2, 1, 2])"
      ]
     },
     "execution_count": 3,
     "metadata": {},
     "output_type": "execute_result"
    }
   ],
   "source": [
    "# 無作為抽出を行う(Numpy)\n",
    "# 復元抽出(抽出に重複を許す)\n",
    "np.random.choice([1, 2, 3], 3)"
   ]
  },
  {
   "cell_type": "code",
   "execution_count": 4,
   "metadata": {},
   "outputs": [
    {
     "data": {
      "text/plain": [
       "array([1, 2, 3])"
      ]
     },
     "execution_count": 4,
     "metadata": {},
     "output_type": "execute_result"
    }
   ],
   "source": [
    "# 無作為抽出を行う(Numpy)\n",
    "# 非復元抽出(抽出に重複を許さない)\n",
    "np.random.choice([1, 2, 3], 3, replace=False)"
   ]
  },
  {
   "cell_type": "code",
   "execution_count": 5,
   "metadata": {},
   "outputs": [
    {
     "data": {
      "text/plain": [
       "array([1, 2, 1])"
      ]
     },
     "execution_count": 5,
     "metadata": {},
     "output_type": "execute_result"
    }
   ],
   "source": [
    "# 乱数シードを利用する\n",
    "np.random.seed(0)\n",
    "np.random.choice([1, 2, 3], 3)"
   ]
  },
  {
   "cell_type": "code",
   "execution_count": 6,
   "metadata": {},
   "outputs": [
    {
     "data": {
      "text/plain": [
       "70.4"
      ]
     },
     "execution_count": 6,
     "metadata": {},
     "output_type": "execute_result"
    }
   ],
   "source": [
    "# Aさんの行った無作為抽出を再現する\n",
    "np.random.seed(0)\n",
    "sample = np.random.choice(scores, 20)\n",
    "sample.mean()"
   ]
  },
  {
   "cell_type": "code",
   "execution_count": 7,
   "metadata": {},
   "outputs": [
    {
     "data": {
      "text/plain": [
       "69.53"
      ]
     },
     "execution_count": 7,
     "metadata": {},
     "output_type": "execute_result"
    }
   ],
   "source": [
    "# 母平均\n",
    "scores.mean()"
   ]
  },
  {
   "cell_type": "code",
   "execution_count": 8,
   "metadata": {},
   "outputs": [
    {
     "name": "stdout",
     "output_type": "stream",
     "text": [
      "1回目の無作為抽出で得た標本平均 72.45\n",
      "2回目の無作為抽出で得た標本平均 63.7\n",
      "3回目の無作為抽出で得た標本平均 66.05\n",
      "4回目の無作為抽出で得た標本平均 71.7\n",
      "5回目の無作為抽出で得た標本平均 74.15\n"
     ]
    }
   ],
   "source": [
    "for i in range(5):\n",
    "    sample = np.random.choice(scores, 20)\n",
    "    print(f'{i+1}回目の無作為抽出で得た標本平均', sample.mean())"
   ]
  },
  {
   "cell_type": "code",
   "execution_count": 9,
   "metadata": {},
   "outputs": [],
   "source": [
    "# いかさまサイの確率分布を求める\n",
    "dice = [1, 2, 3, 4, 5, 6]\n",
    "prob = [1/21, 2/21, 3/21, 4/21, 5/21, 6/21]"
   ]
  },
  {
   "cell_type": "code",
   "execution_count": 10,
   "metadata": {},
   "outputs": [
    {
     "data": {
      "text/plain": [
       "1"
      ]
     },
     "execution_count": 10,
     "metadata": {},
     "output_type": "execute_result"
    }
   ],
   "source": [
    "# 試行を行う(1回)\n",
    "np.random.choice(dice, p=prob)"
   ]
  },
  {
   "cell_type": "code",
   "execution_count": 11,
   "metadata": {},
   "outputs": [
    {
     "data": {
      "text/plain": [
       "array([4, 6, 4, 5, 5, 6, 6, 3, 5, 6, 5, 6, 6, 2, 3, 1, 6, 5, 6, 3, 4, 5,\n",
       "       3, 4, 3, 5, 5, 4, 4, 6, 4, 6, 5, 6, 5, 4, 6, 2, 6, 4, 5, 3, 4, 6,\n",
       "       5, 5, 5, 3, 4, 5, 4, 4, 6, 4, 4, 6, 6, 2, 2, 4, 5, 1, 6, 4, 3, 2,\n",
       "       2, 6, 3, 5, 4, 2, 4, 4, 6, 6, 1, 5, 3, 6, 6, 4, 2, 1, 6, 4, 4, 2,\n",
       "       4, 1, 3, 6, 6, 6, 4, 5, 4, 3, 3, 4])"
      ]
     },
     "execution_count": 11,
     "metadata": {},
     "output_type": "execute_result"
    }
   ],
   "source": [
    "# 試行を行う(100回)\n",
    "num_trial = 100\n",
    "sample = np.random.choice(dice, num_trial, p=prob)\n",
    "sample"
   ]
  },
  {
   "cell_type": "code",
   "execution_count": 12,
   "metadata": {},
   "outputs": [
    {
     "data": {
      "text/html": [
       "<div>\n",
       "<style scoped>\n",
       "    .dataframe tbody tr th:only-of-type {\n",
       "        vertical-align: middle;\n",
       "    }\n",
       "\n",
       "    .dataframe tbody tr th {\n",
       "        vertical-align: top;\n",
       "    }\n",
       "\n",
       "    .dataframe thead th {\n",
       "        text-align: right;\n",
       "    }\n",
       "</style>\n",
       "<table border=\"1\" class=\"dataframe\">\n",
       "  <thead>\n",
       "    <tr style=\"text-align: right;\">\n",
       "      <th></th>\n",
       "      <th>度数</th>\n",
       "      <th>相対度数</th>\n",
       "    </tr>\n",
       "    <tr>\n",
       "      <th>出目</th>\n",
       "      <th></th>\n",
       "      <th></th>\n",
       "    </tr>\n",
       "  </thead>\n",
       "  <tbody>\n",
       "    <tr>\n",
       "      <th>1</th>\n",
       "      <td>5</td>\n",
       "      <td>0.05</td>\n",
       "    </tr>\n",
       "    <tr>\n",
       "      <th>2</th>\n",
       "      <td>9</td>\n",
       "      <td>0.09</td>\n",
       "    </tr>\n",
       "    <tr>\n",
       "      <th>3</th>\n",
       "      <td>13</td>\n",
       "      <td>0.13</td>\n",
       "    </tr>\n",
       "    <tr>\n",
       "      <th>4</th>\n",
       "      <td>27</td>\n",
       "      <td>0.27</td>\n",
       "    </tr>\n",
       "    <tr>\n",
       "      <th>5</th>\n",
       "      <td>19</td>\n",
       "      <td>0.19</td>\n",
       "    </tr>\n",
       "    <tr>\n",
       "      <th>6</th>\n",
       "      <td>27</td>\n",
       "      <td>0.27</td>\n",
       "    </tr>\n",
       "  </tbody>\n",
       "</table>\n",
       "</div>"
      ],
      "text/plain": [
       "    度数  相対度数\n",
       "出目          \n",
       "1    5  0.05\n",
       "2    9  0.09\n",
       "3   13  0.13\n",
       "4   27  0.27\n",
       "5   19  0.19\n",
       "6   27  0.27"
      ]
     },
     "execution_count": 12,
     "metadata": {},
     "output_type": "execute_result"
    }
   ],
   "source": [
    "# 度数分布表を作成する\n",
    "freq, _  = np.histogram(sample, bins=6, range=(1, 7))\n",
    "pd.DataFrame({'度数': freq, '相対度数':freq / num_trial},\n",
    "            index = pd.Index(np.arange(1, 7), name='出目'))"
   ]
  },
  {
   "cell_type": "code",
   "execution_count": 13,
   "metadata": {},
   "outputs": [
    {
     "data": {
      "image/png": "[encoded data removed]",
      "text/plain": [
       "<Figure size 720x432 with 1 Axes>"
      ]
     },
     "metadata": {
      "needs_background": "light"
     },
     "output_type": "display_data"
    }
   ],
   "source": [
    "# 実際の確率分布とヒストグラムを図示する(100回試行)\n",
    "fig = plt.figure(figsize=(10, 6))\n",
    "ax = fig.add_subplot(111)\n",
    "ax.hist(sample, bins=6, range=(1, 7), density=True, rwidth=0.8)\n",
    "#真の確率分布を横線で表示\n",
    "ax.hlines(prob, np.arange(1, 7), np.arange(2, 8), colors='gray')\n",
    "# 棒グラフの[1.5, 2.5, ...., 6.5]に目盛りをつける\n",
    "ax.set_xticks(np.linspace(1.5, 6.5, 6))\n",
    "# 目盛りの値は[1, 2, 3, 4, 5, 6]\n",
    "ax.set_xticklabels(np.arange(1, 7))\n",
    "ax.set_xlabel('出目')\n",
    "ax.set_ylabel('相対度数')\n",
    "plt.show()"
   ]
  },
  {
   "cell_type": "code",
   "execution_count": 14,
   "metadata": {},
   "outputs": [
    {
     "data": {
      "image/png": "[encoded data removed]",
      "text/plain": [
       "<Figure size 720x432 with 1 Axes>"
      ]
     },
     "metadata": {
      "needs_background": "light"
     },
     "output_type": "display_data"
    }
   ],
   "source": [
    "# 実際の確率分布とヒストグラムを図示する(10000回試行)\n",
    "num_trial = 10000\n",
    "sample = np.random.choice(dice, size=num_trial, p=prob)\n",
    "\n",
    "fig = plt.figure(figsize=(10, 6))\n",
    "ax = fig.add_subplot(111)\n",
    "ax.hist(sample, bins=6, range=(1, 7), density=True, rwidth=0.8)\n",
    "#真の確率分布を横線で表示\n",
    "ax.hlines(prob, np.arange(1, 7), np.arange(2, 8), colors='gray')\n",
    "# 棒グラフの[1.5, 2.5, ...., 6.5]に目盛りをつける\n",
    "ax.set_xticks(np.linspace(1.5, 6.5, 6))\n",
    "# 目盛りの値は[1, 2, 3, 4, 5, 6]\n",
    "ax.set_xticklabels(np.arange(1, 7))\n",
    "ax.set_xlabel('出目')\n",
    "ax.set_ylabel('相対度数')\n",
    "plt.show()"
   ]
  },
  {
   "cell_type": "code",
   "execution_count": 17,
   "metadata": {},
   "outputs": [
    {
     "data": {
      "image/png": "[encoded data removed]",
      "text/plain": [
       "<Figure size 720x432 with 1 Axes>"
      ]
     },
     "metadata": {
      "needs_background": "light"
     },
     "output_type": "display_data"
    }
   ],
   "source": [
    "# 全生徒の点数のヒストグラムを描画する\n",
    "# 母集団の確率分布とみなす事ができる\n",
    "fig = plt.figure(figsize=(10, 6))\n",
    "ax = fig.add_subplot(111)\n",
    "ax.hist(scores, bins=100, range=(0, 100), density=True)\n",
    "ax.set_xlim(20, 100)\n",
    "ax.set_ylim(0, 0.042)\n",
    "ax.set_xlabel('点数')\n",
    "ax.set_ylabel('相対度数')\n",
    "plt.show()"
   ]
  },
  {
   "cell_type": "code",
   "execution_count": 18,
   "metadata": {},
   "outputs": [
    {
     "data": {
      "text/plain": [
       "89"
      ]
     },
     "execution_count": 18,
     "metadata": {},
     "output_type": "execute_result"
    }
   ],
   "source": [
    "# 1回試行してみる\n",
    "np.random.choice(scores)"
   ]
  },
  {
   "cell_type": "code",
   "execution_count": 19,
   "metadata": {},
   "outputs": [
    {
     "data": {
      "image/png": "[encoded data removed]",
      "text/plain": [
       "<Figure size 720x432 with 1 Axes>"
      ]
     },
     "metadata": {
      "needs_background": "light"
     },
     "output_type": "display_data"
    }
   ],
   "source": [
    "# 無作為抽出でサンプルサイズ10000の標本を抽出する\n",
    "sample = np.random.choice(scores, 10000)\n",
    "\n",
    "fig = plt.figure(figsize=(10, 6))\n",
    "ax = fig.add_subplot(111)\n",
    "ax.hist(scores, bins=100, range=(0, 100), density=True)\n",
    "ax.set_xlim(20, 100)\n",
    "ax.set_ylim(0, 0.042)\n",
    "ax.set_xlabel('点数')\n",
    "ax.set_ylabel('相対度数')\n",
    "plt.show()"
   ]
  },
  {
   "cell_type": "code",
   "execution_count": 20,
   "metadata": {},
   "outputs": [
    {
     "data": {
      "image/png": "[encoded data removed]",
      "text/plain": [
       "<Figure size 720x432 with 1 Axes>"
      ]
     },
     "metadata": {
      "needs_background": "light"
     },
     "output_type": "display_data"
    }
   ],
   "source": [
    "# 無作為抽出でサンプルサイズ20の標本を抽出して標本平均を計算する事を10000回行う\n",
    "sample_means = [np.random.choice(scores, 20).mean() for _ in range(10000)]\n",
    "\n",
    "fig = plt.figure(figsize=(10, 6))\n",
    "ax = fig.add_subplot(111)\n",
    "ax.hist(sample_means, bins=100, range=(0, 100), density=True)\n",
    "# 母平均を縦線で表示\n",
    "ax.vlines(np.mean(scores), 0, 1, 'gray')\n",
    "ax.set_xlim(50, 90)\n",
    "ax.set_ylim(0, 0.13)\n",
    "ax.set_xlabel('点数')\n",
    "ax.set_ylabel('相対度数')\n",
    "plt.show()"
   ]
  },
  {
   "cell_type": "code",
   "execution_count": null,
   "metadata": {},
   "outputs": [],
   "source": []
  }
 ],
 "metadata": {
  "kernelspec": {
   "display_name": "Python 3",
   "language": "python",
   "name": "python3"
  },
  "language_info": {
   "codemirror_mode": {
    "name": "ipython",
    "version": 3
   },
   "file_extension": ".py",
   "mimetype": "text/x-python",
   "name": "python",
   "nbconvert_exporter": "python",
   "pygments_lexer": "ipython3",
   "version": "3.6.10"
  }
 },
 "nbformat": 4,
 "nbformat_minor": 4
}
